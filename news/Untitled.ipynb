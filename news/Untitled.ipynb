{
 "cells": [
  {
   "cell_type": "code",
   "execution_count": 1,
   "id": "7620036a",
   "metadata": {},
   "outputs": [],
   "source": [
    "import pandas as pd"
   ]
  },
  {
   "cell_type": "code",
   "execution_count": 9,
   "id": "b7b297be",
   "metadata": {},
   "outputs": [
    {
     "name": "stdout",
     "output_type": "stream",
     "text": [
      "         id                           title  sens\n",
      "0    100675              卧龙区潦河镇：召开国庆期间廉政恳谈会    50\n",
      "1    100676                   迎中秋 送祝福 关爱贫困户    50\n",
      "2    100677       卧龙区潦河镇：召开潦河镇脱贫攻坚工作调研问题反馈会    50\n",
      "3    100678    潦河镇大陈营村召开“不忘初心、牢记使命”主题教育学习会议    50\n",
      "4    100679                 驻村帮扶办实事 村民感谢送锦旗    50\n",
      "..      ...                             ...   ...\n",
      "995  109188  基层党建“三化”建设怎么做？吉安这个现场观摩交流会干货满满！    86\n",
      "996  109189                 赓续红色基因 铸就“忠诚”之魂   100\n",
      "997  109190           井冈大地百草香！吉安中医药融合发展风生水起    99\n",
      "998  109191                推进区块链产业发展，吉安这么做！   100\n",
      "999  109192                        校准“领导印象”    43\n",
      "\n",
      "[1000 rows x 3 columns]          id                                            content\n",
      "0    100675  <article ><main><p>9月30日上午，潦河镇召开国庆期间廉政恳谈会。</p>...\n",
      "1    100676  <article ><main><p>祖国70华诞和2019年中秋佳节即将到来之际，南阳市城...\n",
      "2    100677  <article ><main>\\n        \\n          <figure ...\n",
      "3    100678  <article ><main><p>9月26日上午，潦河镇大陈营村召开“不忘初心、牢记使命...\n",
      "4    100679  <article ><main><p>近日，我镇李庄村党支部和村委会干部将一面绣有“驻村扶贫...\n",
      "..      ...                                                ...\n",
      "995  109188  <p>吉安新闻网讯（记者<strong>王玉梅、肖勇</strong>）为进一步推进基层党建...\n",
      "996  109189  <p>“天下之德，莫过于忠。”</p>\\n<p>忠诚，是中华民族优秀文化的精髓。范仲淹的“先...\n",
      "997  109190  <p>吉安新闻网讯（记者<strong>徐瑞春</strong>）时值秋季，井冈大地上，杜仲...\n",
      "998  109191  <p>吉安新闻网讯（记者<strong>潘虹莉</strong>）9月17日，吉安市政府召开...\n",
      "999  109192  <p>现实生活中，无论体制内外，确有一些领导很重视印象，特别是第一印象。在我们身边，就有些德...\n",
      "\n",
      "[1000 rows x 2 columns]\n"
     ]
    }
   ],
   "source": [
    "title = pd.read_csv(\"t_article.csv\")\n",
    "news = pd.read_csv(\"t_article_content.csv\")\n",
    "title = title[['id','title','sens']]\n",
    "news = news[['article_id','content']]\n",
    "news = news.rename(index=str,columns={'article_id':'id'})\n",
    "print(title,news)\n"
   ]
  },
  {
   "cell_type": "code",
   "execution_count": 10,
   "id": "962dbeeb",
   "metadata": {},
   "outputs": [
    {
     "name": "stdout",
     "output_type": "stream",
     "text": [
      "         id                           title  sens  \\\n",
      "0    100675              卧龙区潦河镇：召开国庆期间廉政恳谈会    50   \n",
      "1    100676                   迎中秋 送祝福 关爱贫困户    50   \n",
      "2    100677       卧龙区潦河镇：召开潦河镇脱贫攻坚工作调研问题反馈会    50   \n",
      "3    100678    潦河镇大陈营村召开“不忘初心、牢记使命”主题教育学习会议    50   \n",
      "4    100679                 驻村帮扶办实事 村民感谢送锦旗    50   \n",
      "..      ...                             ...   ...   \n",
      "995  109188  基层党建“三化”建设怎么做？吉安这个现场观摩交流会干货满满！    86   \n",
      "996  109189                 赓续红色基因 铸就“忠诚”之魂   100   \n",
      "997  109190           井冈大地百草香！吉安中医药融合发展风生水起    99   \n",
      "998  109191                推进区块链产业发展，吉安这么做！   100   \n",
      "999  109192                        校准“领导印象”    43   \n",
      "\n",
      "                                               content  \n",
      "0    <article ><main><p>9月30日上午，潦河镇召开国庆期间廉政恳谈会。</p>...  \n",
      "1    <article ><main><p>祖国70华诞和2019年中秋佳节即将到来之际，南阳市城...  \n",
      "2    <article ><main>\\n        \\n          <figure ...  \n",
      "3    <article ><main><p>9月26日上午，潦河镇大陈营村召开“不忘初心、牢记使命...  \n",
      "4    <article ><main><p>近日，我镇李庄村党支部和村委会干部将一面绣有“驻村扶贫...  \n",
      "..                                                 ...  \n",
      "995  <p>吉安新闻网讯（记者<strong>王玉梅、肖勇</strong>）为进一步推进基层党建...  \n",
      "996  <p>“天下之德，莫过于忠。”</p>\\n<p>忠诚，是中华民族优秀文化的精髓。范仲淹的“先...  \n",
      "997  <p>吉安新闻网讯（记者<strong>徐瑞春</strong>）时值秋季，井冈大地上，杜仲...  \n",
      "998  <p>吉安新闻网讯（记者<strong>潘虹莉</strong>）9月17日，吉安市政府召开...  \n",
      "999  <p>现实生活中，无论体制内外，确有一些领导很重视印象，特别是第一印象。在我们身边，就有些德...  \n",
      "\n",
      "[1000 rows x 4 columns]\n"
     ]
    }
   ],
   "source": [
    "article = pd.merge(title,news,how='outer',on='id')\n",
    "print(article)"
   ]
  },
  {
   "cell_type": "code",
   "execution_count": 12,
   "id": "07be8e02",
   "metadata": {},
   "outputs": [],
   "source": [
    "article.to_csv('article.csv')"
   ]
  }
 ],
 "metadata": {
  "kernelspec": {
   "display_name": "Python 3",
   "language": "python",
   "name": "python3"
  },
  "language_info": {
   "codemirror_mode": {
    "name": "ipython",
    "version": 3
   },
   "file_extension": ".py",
   "mimetype": "text/x-python",
   "name": "python",
   "nbconvert_exporter": "python",
   "pygments_lexer": "ipython3",
   "version": "3.7.10"
  }
 },
 "nbformat": 4,
 "nbformat_minor": 5
}
